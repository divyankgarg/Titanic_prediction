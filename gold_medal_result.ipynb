version https://git-lfs.github.com/spec/v1
oid sha256:91027e9b0c4da5e4226a3a6c8a5f61375cd4b2a67861ed89e9a699146f9c5464
size 2395
